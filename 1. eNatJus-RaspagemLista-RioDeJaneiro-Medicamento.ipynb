{
 "cells": [
  {
   "cell_type": "code",
   "execution_count": 7,
   "id": "509ea474",
   "metadata": {},
   "outputs": [],
   "source": [
    "from selenium import webdriver\n",
    "from webdriver_manager.firefox import GeckoDriverManager\n",
    "\n",
    "from selenium.webdriver.common.by import By\n",
    "from selenium.webdriver.support.ui import WebDriverWait\n",
    "from selenium.webdriver.support import expected_conditions as EC\n",
    "from selenium.common.exceptions import NoSuchElementException\n",
    "\n",
    "from bs4 import BeautifulSoup\n",
    "import pandas as pd\n",
    "from datetime import datetime\n",
    "import re\n",
    "import math\n",
    "import time"
   ]
  },
  {
   "cell_type": "code",
   "execution_count": 9,
   "id": "48dc2851",
   "metadata": {},
   "outputs": [],
   "source": [
    "# Instala o GeckoDriver\n",
    "GeckoDriverManager().install()\n",
    "\n",
    "# Inicie o navegador Firefox\n",
    "navegador = webdriver.Firefox()\n",
    "navegador.get('https://www.google.com')"
   ]
  },
  {
   "cell_type": "code",
   "execution_count": 10,
   "id": "ab001d90",
   "metadata": {},
   "outputs": [],
   "source": [
    "info_resultados = []\n",
    "\n",
    "# Salve os nomes das opções\n",
    "option_names = ['RJ - Rio de Janeiro']"
   ]
  },
  {
   "cell_type": "code",
   "execution_count": 11,
   "id": "91092ceb",
   "metadata": {},
   "outputs": [
    {
     "name": "stdout",
     "output_type": "stream",
     "text": [
      "RJ - Rio de Janeiro\n",
      "1414\n"
     ]
    }
   ],
   "source": [
    "# Para cada opção, localize-a novamente e clique nela\n",
    "for option_name in option_names:\n",
    "    print(option_name)\n",
    "    \n",
    "    navegador.get(\"https://www.cnj.jus.br/e-natjus/pesquisaPublica.php\")\n",
    "    \n",
    "    navegador.find_element('xpath', '//*[@id=\"frmPesquisa\"]/div[5]/div[5]/div/span/span[1]/span/span[2]/b').click()\n",
    "    options2 = WebDriverWait(navegador, 120).until(\n",
    "        EC.visibility_of_all_elements_located((By.XPATH, '//ul[@id=\"select2-txtNatResponsavel-results\"]/li'))\n",
    "    )\n",
    "    \n",
    "    for option in options2:\n",
    "        if option.text == option_name:\n",
    "            option.click()\n",
    "            break\n",
    "    \n",
    "    navegador.find_element('xpath', '/html/body/div[1]/div[1]/form/div[4]/div[2]/div/select').click()\n",
    "    navegador.find_element('xpath', '//*[@id=\"selTipoTecnologia\"]/option[2]').click()\n",
    "    \n",
    "    navegador.find_element('xpath', '//*[@id=\"btnPesquisar\"]').click()\n",
    "    \n",
    "    try:\n",
    "        element = WebDriverWait(navegador, 300).until(\n",
    "            EC.visibility_of_element_located((By.XPATH, '//*[@id=\"resultados\"]'))\n",
    "        )\n",
    "              \n",
    "        html = navegador.page_source\n",
    "        soup = BeautifulSoup(html, 'html.parser')\n",
    "        \n",
    "        texto = soup.find('div', id='resultados').find('p').text.strip()\n",
    "        resultado = re.search(r'de (\\d+) resultados', texto)\n",
    "        numero_resultados = resultado.group(1)\n",
    "        print(numero_resultados)\n",
    "    except NoSuchElementException:\n",
    "        pass  # Continuar para a próxima tentativa se element_xpath_2 não for encontrado\n",
    "    \n",
    "    numero_maximo_paginas = math.ceil(int(numero_resultados)/50)\n",
    "    \n",
    "    for pagina_numero in range(1, numero_maximo_paginas + 1):\n",
    "        element = WebDriverWait(navegador, 120).until(\n",
    "            EC.visibility_of_element_located((By.XPATH, '//*[@id=\"tbody\"]/tr[1]'))\n",
    "        )\n",
    "\n",
    "        # Obter o código HTML da página\n",
    "        html = navegador.page_source\n",
    "\n",
    "        # Criar um objeto BeautifulSoup para analisar o código HTML\n",
    "        soup = BeautifulSoup(html, 'html.parser')\n",
    "        lista_de_tr = soup.find('div', attrs={'id': 'resultados'}).find('table').find('tbody').find_all('tr')\n",
    "\n",
    "        for tr in lista_de_tr:\n",
    "            dados = tr.find_all('td')\n",
    "\n",
    "            identificacao = dados[0].text\n",
    "            data = dados[1].text\n",
    "            tecnologia = dados[2].text\n",
    "            CID = dados[3].text\n",
    "            status = dados[5].text\n",
    "            links = dados[6].find_all('a')\n",
    "            linkSite = links[0].get(\"href\").strip()\n",
    "            linkSite = \"https://www.cnj.jus.br/e-natjus/\" + linkSite\n",
    "            linkPDF = links[1].get(\"href\").strip()\n",
    "            linkPDF = \"https://www.cnj.jus.br/e-natjus/\" + linkPDF \n",
    "\n",
    "            info_resultados.append([identificacao, data, tecnologia, CID, status, linkSite, linkPDF])\n",
    "            \n",
    "        # Verificar se a página atual é menor ou igual ao número máximo de páginas definido\n",
    "        if pagina_numero < numero_maximo_paginas:\n",
    "            # Clicar no número de página correspondente\n",
    "            numero_pagina = navegador.find_element('xpath', f'//*[@id=\"pagination\"]/nav/ul/li[{pagina_numero + 1}]/a')\n",
    "            numero_pagina.click()\n",
    "            time.sleep(2)  # Aguardar o carregamento da próxima página\n",
    "        else:\n",
    "            break  # Sai do loop se atingir o número máximo de páginas definido"
   ]
  },
  {
   "cell_type": "code",
   "execution_count": 12,
   "id": "40170b1c",
   "metadata": {},
   "outputs": [],
   "source": [
    "resultados_df = pd.DataFrame(info_resultados)\n",
    "resultados_df.columns = ['Id do parecer', 'Data', 'Tecnologia', 'CID', 'Status', 'Link do Site', 'Link do PDF']\n",
    "\n",
    "agora = datetime.now().strftime(\"%Y%m%d%H%M%S\")\n",
    "nome_arquivo = \"enatjus-RaspagemLista-RioDeJaneiro-Medicamento-\" + agora + \".xlsx\"\n",
    "resultados_df.to_excel(nome_arquivo, index=False)"
   ]
  }
 ],
 "metadata": {
  "kernelspec": {
   "display_name": "Python 3 (ipykernel)",
   "language": "python",
   "name": "python3"
  },
  "language_info": {
   "codemirror_mode": {
    "name": "ipython",
    "version": 3
   },
   "file_extension": ".py",
   "mimetype": "text/x-python",
   "name": "python",
   "nbconvert_exporter": "python",
   "pygments_lexer": "ipython3",
   "version": "3.9.12"
  }
 },
 "nbformat": 4,
 "nbformat_minor": 5
}
